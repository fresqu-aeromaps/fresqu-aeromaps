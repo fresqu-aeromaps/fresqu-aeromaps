{
 "cells": [
  {
   "cell_type": "code",
   "execution_count": 1,
   "id": "d471fc57",
   "metadata": {},
   "outputs": [
    {
     "data": {
      "application/vnd.jupyter.widget-view+json": {
       "model_id": "b4d6437e6bfa44faa20d3b4796232bc4",
       "version_major": 2,
       "version_minor": 0
      },
      "text/plain": [
       "VBox(children=(VBox(children=(HTML(value='<h1 align=\"center\">\\nFresqu\\'AéroMAPS - Outil de simulation des choi…"
      ]
     },
     "execution_count": 1,
     "metadata": {},
     "output_type": "execute_result"
    }
   ],
   "source": [
    "from ui.notebook_ui import draw_interface\n",
    "\n",
    "NUMBER_OF_GROUPS = 3\n",
    "\n",
    "# Display the interface :\n",
    "grid = draw_interface(NUMBER_OF_GROUPS)\n",
    "grid"
   ]
  }
 ],
 "metadata": {
  "kernelspec": {
   "display_name": ".venv",
   "language": "python",
   "name": "python3"
  },
  "language_info": {
   "codemirror_mode": {
    "name": "ipython",
    "version": 3
   },
   "file_extension": ".py",
   "mimetype": "text/x-python",
   "name": "python",
   "nbconvert_exporter": "python",
   "pygments_lexer": "ipython3",
   "version": "3.12.3"
  }
 },
 "nbformat": 4,
 "nbformat_minor": 5
}
