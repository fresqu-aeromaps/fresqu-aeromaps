{
 "cells": [
  {
   "cell_type": "code",
   "execution_count": 1,
   "id": "d471fc57",
   "metadata": {},
   "outputs": [
    {
     "data": {
      "application/vnd.jupyter.widget-view+json": {
       "model_id": "e02d76f34c5f48a8b67aa7ea1cb4f374",
       "version_major": 2,
       "version_minor": 0
      },
      "text/plain": [
       "VBox(children=(VBox(children=(HTML(value='<h1 align=\"center\">\\nFresqu\\'AéroMAPS - Outil de simulation des choi…"
      ]
     },
     "execution_count": 1,
     "metadata": {},
     "output_type": "execute_result"
    }
   ],
   "source": [
    "from ui.fresque_aeromaps_UI import FresqueAeroMapsUI\n",
    "\n",
    "# Display the interface :\n",
    "application = FresqueAeroMapsUI()\n",
    "application.display_interface()"
   ]
  }
 ],
 "metadata": {
  "kernelspec": {
   "display_name": ".venv",
   "language": "python",
   "name": "python3"
  },
  "language_info": {
   "codemirror_mode": {
    "name": "ipython",
    "version": 3
   },
   "file_extension": ".py",
   "mimetype": "text/x-python",
   "name": "python",
   "nbconvert_exporter": "python",
   "pygments_lexer": "ipython3",
   "version": "3.12.3"
  }
 },
 "nbformat": 4,
 "nbformat_minor": 5
}
